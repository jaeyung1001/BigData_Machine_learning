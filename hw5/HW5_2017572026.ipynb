{
 "cells": [
  {
   "cell_type": "code",
   "execution_count": 150,
   "metadata": {
    "collapsed": true
   },
   "outputs": [],
   "source": [
    "from sklearn.datasets import load_boston\n",
    "from sklearn import cross_validation\n",
    "import pandas as pd\n",
    "from sklearn.linear_model import LogisticRegression as LR\n",
    "import matplotlib.pyplot as plt\n",
    "import random\n",
    "from sklearn.datasets import make_blobs\n",
    "from sklearn.cluster import KMeans\n",
    "import numpy as np\n",
    "from scipy import cluster\n",
    "from sklearn import preprocessing\n",
    "import math\n",
    "import copy"
   ]
  },
  {
   "cell_type": "markdown",
   "metadata": {},
   "source": [
    "# 1. Logistic Regression"
   ]
  },
  {
   "cell_type": "code",
   "execution_count": 11,
   "metadata": {
    "collapsed": true
   },
   "outputs": [],
   "source": [
    "boston = load_boston()\n",
    "df = pd.DataFrame(boston.data, columns = boston.feature_names)\n",
    "target = pd.DataFrame(boston.target, columns = ['y'])\n",
    "for i, y in enumerate(target['y']):\n",
    "    target['y'][i] = float(i)"
   ]
  },
  {
   "cell_type": "markdown",
   "metadata": {},
   "source": [
    "## 1.1 모든 변수로 prediction"
   ]
  },
  {
   "cell_type": "code",
   "execution_count": 48,
   "metadata": {},
   "outputs": [
    {
     "name": "stderr",
     "output_type": "stream",
     "text": [
      "D:\\download\\anaconda3\\lib\\site-packages\\sklearn\\utils\\validation.py:526: DataConversionWarning: A column-vector y was passed when a 1d array was expected. Please change the shape of y to (n_samples, ), for example using ravel().\n",
      "  y = column_or_1d(y, warn=True)\n"
     ]
    },
    {
     "data": {
      "text/plain": [
       "LogisticRegression(C=1.0, class_weight=None, dual=False, fit_intercept=True,\n",
       "          intercept_scaling=1, max_iter=100, multi_class='ovr', n_jobs=1,\n",
       "          penalty='l2', random_state=None, solver='liblinear', tol=0.0001,\n",
       "          verbose=0, warm_start=False)"
      ]
     },
     "execution_count": 48,
     "metadata": {},
     "output_type": "execute_result"
    }
   ],
   "source": [
    "X_train, X_test, Y_train, Y_test = cross_validation.train_test_split(df, target)\n",
    "reg = LR()\n",
    "reg.fit(X_train, Y_train)"
   ]
  },
  {
   "cell_type": "code",
   "execution_count": 49,
   "metadata": {},
   "outputs": [
    {
     "data": {
      "image/png": "[encoded data removed]",
      "text/plain": [
       "<matplotlib.figure.Figure at 0x190fac77198>"
      ]
     },
     "metadata": {},
     "output_type": "display_data"
    }
   ],
   "source": [
    "pred = reg.predict(X_test)\n",
    "plt.scatter(Y_test, pred)\n",
    "plt.xlabel(\"Prices\")\n",
    "plt.ylabel(\"Pred prices\")\n",
    "plt.show()"
   ]
  },
  {
   "cell_type": "markdown",
   "metadata": {},
   "source": [
    "## 1.2 몇 가지 변수 빼고 prediction"
   ]
  },
  {
   "cell_type": "code",
   "execution_count": 78,
   "metadata": {
    "collapsed": true
   },
   "outputs": [],
   "source": [
    "boston = load_boston()\n",
    "df = pd.DataFrame(boston.data, columns = boston.feature_names)\n",
    "target = pd.DataFrame(boston.target, columns = ['y'])\n",
    "for i, y in enumerate(target['y']):\n",
    "    target['y'][i] = float(i)"
   ]
  },
  {
   "cell_type": "code",
   "execution_count": 79,
   "metadata": {},
   "outputs": [
    {
     "name": "stdout",
     "output_type": "stream",
     "text": [
      "['CRIM', 'AGE']\n"
     ]
    }
   ],
   "source": [
    "drop = []\n",
    "for i in range(0, len(df.columns)):\n",
    "    if random.random()<0.3:\n",
    "        drop.append(df.columns[i])\n",
    "df = df.drop(drop, axis = 1)\n",
    "print(drop)"
   ]
  },
  {
   "cell_type": "code",
   "execution_count": 80,
   "metadata": {},
   "outputs": [
    {
     "name": "stderr",
     "output_type": "stream",
     "text": [
      "D:\\download\\anaconda3\\lib\\site-packages\\sklearn\\utils\\validation.py:526: DataConversionWarning: A column-vector y was passed when a 1d array was expected. Please change the shape of y to (n_samples, ), for example using ravel().\n",
      "  y = column_or_1d(y, warn=True)\n"
     ]
    },
    {
     "data": {
      "text/plain": [
       "LogisticRegression(C=1.0, class_weight=None, dual=False, fit_intercept=True,\n",
       "          intercept_scaling=1, max_iter=100, multi_class='ovr', n_jobs=1,\n",
       "          penalty='l2', random_state=None, solver='liblinear', tol=0.0001,\n",
       "          verbose=0, warm_start=False)"
      ]
     },
     "execution_count": 80,
     "metadata": {},
     "output_type": "execute_result"
    }
   ],
   "source": [
    "X_train, X_test, Y_train, Y_test = cross_validation.train_test_split(df, target)\n",
    "reg = LR()\n",
    "reg.fit(X_train, Y_train)"
   ]
  },
  {
   "cell_type": "code",
   "execution_count": 65,
   "metadata": {},
   "outputs": [
    {
     "data": {
      "image/png": "[encoded data removed]",
      "text/plain": [
       "<matplotlib.figure.Figure at 0x190faf06198>"
      ]
     },
     "metadata": {},
     "output_type": "display_data"
    }
   ],
   "source": [
    "pred = reg.predict(X_test)\n",
    "plt.scatter(Y_test, pred)\n",
    "plt.xlabel(\"Prices\")\n",
    "plt.ylabel(\"Pred prices\")\n",
    "plt.show()"
   ]
  },
  {
   "cell_type": "markdown",
   "metadata": {},
   "source": [
    "# 2. K-Means Clustering"
   ]
  },
  {
   "cell_type": "code",
   "execution_count": 151,
   "metadata": {},
   "outputs": [],
   "source": [
    "blobs = make_blobs()\n",
    "blobs = make_blobs()[0]\n",
    "d = pd.DataFrame(blobs, columns = ['X', 'Y'])"
   ]
  },
  {
   "cell_type": "code",
   "execution_count": 216,
   "metadata": {
    "collapsed": true
   },
   "outputs": [],
   "source": [
    "def kmeans(k, data):\n",
    "    center = []\n",
    "    group1 = []\n",
    "    iteration = 0\n",
    "    max_iteration = 100\n",
    "    assignment = []\n",
    "    cnt = 0\n",
    "    for i in range(0, len(d)):\n",
    "        assignment.append(0)\n",
    "    for i in range(0, k):\n",
    "        x = random.uniform(d.min().X, d.max().X)\n",
    "        y = random.uniform(d.min().Y, d.min().Y)\n",
    "        center.append([x, y])\n",
    "        group1.append([])\n",
    "    while (iteration == 0) or (cnt < max_iteration):\n",
    "        cnt += 1\n",
    "        assignment_backup = list(assignment)\n",
    "        for blobnum in range(0,len(d)):\n",
    "            dis_list = []\n",
    "            for i in range(0, k):\n",
    "                distance = math.sqrt(pow((d['X'][blobnum]-center[i][0]), 2) + pow((d['Y'][blobnum]-center[i][1]), 2))\n",
    "                dis_list.append(distance)\n",
    "            group1[dis_list.index(min(dis_list))].append(blobs[blobnum])\n",
    "            assignment[blobnum] = dis_list.index(min(dis_list))\n",
    "        if (assignment == assignment_backup):\n",
    "            iteration = 1\n",
    "            for i in range(0, k):\n",
    "                if len(group1[i]) == 0:\n",
    "                    iteration = 0\n",
    "        for i in range(0, k):\n",
    "            center[i] = [0, 0]\n",
    "            for blob in group1[i]:\n",
    "                center[i][0] += blob[0]\n",
    "                center[i][1] += blob[1]\n",
    "            if len(group1[i]) != 0:\n",
    "                center[i][0] = center[i][0]/len(group1[i])\n",
    "                center[i][1] = center[i][1]/len(group1[i])\n",
    "    return assignment\n",
    "                 "
   ]
  },
  {
   "cell_type": "code",
   "execution_count": 217,
   "metadata": {},
   "outputs": [
    {
     "data": {
      "image/png": "[encoded data removed]",
      "text/plain": [
       "<matplotlib.figure.Figure at 0x190fa9e5828>"
      ]
     },
     "metadata": {},
     "output_type": "display_data"
    }
   ],
   "source": [
    "assignment = kmeans(3, blobs)\n",
    "plt.scatter(blobs[:,0], blobs[:,1], c=assignment)\n",
    "plt.show()"
   ]
  },
  {
   "cell_type": "code",
   "execution_count": null,
   "metadata": {
    "collapsed": true
   },
   "outputs": [],
   "source": []
  },
  {
   "cell_type": "code",
   "execution_count": null,
   "metadata": {
    "collapsed": true
   },
   "outputs": [],
   "source": []
  }
 ],
 "metadata": {
  "kernelspec": {
   "display_name": "Python 3",
   "language": "python",
   "name": "python3"
  },
  "language_info": {
   "codemirror_mode": {
    "name": "ipython",
    "version": 3
   },
   "file_extension": ".py",
   "mimetype": "text/x-python",
   "name": "python",
   "nbconvert_exporter": "python",
   "pygments_lexer": "ipython3",
   "version": "3.6.1"
  }
 },
 "nbformat": 4,
 "nbformat_minor": 2
}
