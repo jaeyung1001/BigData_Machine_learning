{
 "cells": [
  {
   "cell_type": "markdown",
   "metadata": {},
   "source": [
    "# 쌤이 수업 때 시킨거..."
   ]
  },
  {
   "cell_type": "code",
   "execution_count": 29,
   "metadata": {},
   "outputs": [
    {
     "name": "stdout",
     "output_type": "stream",
     "text": [
      "Result\t\t==>\t0\n",
      "Set Zero\t==>\t855\n"
     ]
    }
   ],
   "source": [
    "count = 1\n",
    "count_set_zero = 0\n",
    "sum = 0\n",
    "for i in range(1,1001):\n",
    "    if(count == 1):\n",
    "        sum += i * count\n",
    "        count += 1\n",
    "#         print(i,\"\\t:\\t\",sum)\n",
    "    elif(count == 2):\n",
    "        sum += i + count\n",
    "        count += 1\n",
    "    elif(count == 3):\n",
    "        sum += i - count\n",
    "        count += 1\n",
    "    elif(count == 4):\n",
    "        sum += i / count\n",
    "        count = 1\n",
    "    if(sum>100):\n",
    "            count_set_zero += 1\n",
    "            sum = 0\n",
    "print(\"Result\\t\\t==>\\t{}\".format(sum))\n",
    "print(\"Set Zero\\t==>\\t{}\".format(count_set_zero))"
   ]
  }
 ],
 "metadata": {
  "kernelspec": {
   "display_name": "Python 3",
   "language": "python",
   "name": "python3"
  },
  "language_info": {
   "codemirror_mode": {
    "name": "ipython",
    "version": 3
   },
   "file_extension": ".py",
   "mimetype": "text/x-python",
   "name": "python",
   "nbconvert_exporter": "python",
   "pygments_lexer": "ipython3",
   "version": "3.5.4"
  }
 },
 "nbformat": 4,
 "nbformat_minor": 2
}
