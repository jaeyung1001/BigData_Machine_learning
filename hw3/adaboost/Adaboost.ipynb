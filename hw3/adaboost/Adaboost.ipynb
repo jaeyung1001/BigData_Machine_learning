{
 "cells": [
  {
   "cell_type": "code",
   "execution_count": 5,
   "metadata": {},
   "outputs": [],
   "source": [
    "from sklearn.datasets import load_iris\n",
    "from sklearn.ensemble import AdaBoostClassifier\n",
    "from sklearn.model_selection import cross_val_score"
   ]
  },
  {
   "cell_type": "code",
   "execution_count": 7,
   "metadata": {},
   "outputs": [
    {
     "name": "stdout",
     "output_type": "stream",
     "text": [
      "0.959967320261\n",
      "0.952991452991\n",
      "0.946666666667\n",
      "0.945216049383\n",
      "0.953231292517\n",
      "0.945436507937\n",
      "0.948148148148\n",
      "0.946666666667\n",
      "0.948484848485\n",
      "0.945833333333\n",
      "0.961538461538\n",
      "0.960317460317\n",
      "0.959259259259\n",
      "0.960069444444\n",
      "0.954248366013\n",
      "0.956790123457\n",
      "0.959064327485\n"
     ]
    }
   ],
   "source": [
    "iris = load_iris()\n",
    "x = iris.data\n",
    "y = iris.target\n",
    "\n",
    "for i in range(3,20):\n",
    "    clf = AdaBoostClassifier(n_estimators=100)\n",
    "    scores = cross_val_score(estimator=clf, X=x, y=y, cv=i, n_jobs=4)\n",
    "    print(scores.mean())"
   ]
  }
 ],
 "metadata": {
  "kernelspec": {
   "display_name": "Python 3",
   "language": "python",
   "name": "python3"
  },
  "language_info": {
   "codemirror_mode": {
    "name": "ipython",
    "version": 3
   },
   "file_extension": ".py",
   "mimetype": "text/x-python",
   "name": "python",
   "nbconvert_exporter": "python",
   "pygments_lexer": "ipython3",
   "version": "3.5.0"
  }
 },
 "nbformat": 4,
 "nbformat_minor": 2
}
