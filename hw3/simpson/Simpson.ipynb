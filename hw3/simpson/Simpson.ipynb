{
 "cells": [
  {
   "cell_type": "code",
   "execution_count": null,
   "metadata": {
    "collapsed": true
   },
   "outputs": [],
   "source": [
    "import pandas as pd\n",
    "import math\n",
    "\n",
    "def get_entropy(data):\n",
    "    entropy = 0\n",
    "    total = sum(data)\n",
    "    for i in data:\n",
    "        entropy -= i/total * math.log(i/total, 2)\n",
    "    return round(entropy, 4)\n",
    "\n",
    "simpson_data = pd.read_csv('./data/simpson.csv',\n",
    "                           names=[\"person\", \"hair_length\", \"Weight\", \"age\", \"class\"], encoding='utf-8')\n",
    "print(simpson_data)\n",
    "# print(get_entropy([4,5]))\n",
    "# Use Hair_length\n",
    "\n",
    "k = 5   #기준점\n",
    "t_hair = simpson_data[simpson_data['hair_length']<= k]   #k보다 작은 행추출\n",
    "f_hair = simpson_data.drop(t_hair.index)  #s이외의 값\n",
    "\n",
    "# 선별된 데이터 분류\n",
    "count_tM = len(t_hair[t_hair['class']=='M'])\n",
    "count_tF = len(t_hair[t_hair['class']=='F'])\n",
    "t_entropy = get_entropy([count_tM,count_tF])\n",
    "\n",
    "count_fM = len(f_hair[f_hair['class']=='M'])\n",
    "count_fF = len(f_hair[f_hair['class']=='F'])\n",
    "f_entropy = get_entropy([count_fM,count_fF])\n",
    "\n",
    "# 전체\n",
    "total = len(simpson_data)\n",
    "# print(\"total\",total)\n",
    "M = simpson_data[simpson_data['class']=='M']\n",
    "count_M = len(M)\n",
    "F = simpson_data[simpson_data['class']=='F']\n",
    "count_F = len(F)\n",
    "\n",
    "entropy = get_entropy([count_M,count_F])\n",
    "\n",
    "gain = 0\n",
    "gain = entropy - (((count_tM+count_tF)/total)*t_entropy + ((count_fM+count_fF)/total)*f_entropy)\n",
    "print(round(gain,4))\n"
   ]
  }
 ],
 "metadata": {
  "kernelspec": {
   "display_name": "Python 3",
   "language": "python",
   "name": "python3"
  },
  "language_info": {
   "codemirror_mode": {
    "name": "ipython",
    "version": 3
   },
   "file_extension": ".py",
   "mimetype": "text/x-python",
   "name": "python",
   "nbconvert_exporter": "python",
   "pygments_lexer": "ipython3",
   "version": "3.5.0"
  }
 },
 "nbformat": 4,
 "nbformat_minor": 2
}
