{
 "cells": [
  {
   "cell_type": "markdown",
   "metadata": {},
   "source": [
    "# Correlation Coefficient 코딩"
   ]
  },
  {
   "cell_type": "markdown",
   "metadata": {},
   "source": [
    "![Image](1.png)"
   ]
  },
  {
   "cell_type": "code",
   "execution_count": 22,
   "metadata": {},
   "outputs": [
    {
     "data": {
      "text/plain": [
       "0.98880826155975843"
      ]
     },
     "execution_count": 22,
     "metadata": {},
     "output_type": "execute_result"
    }
   ],
   "source": [
    "import math\n",
    "def correlation(x,y):\n",
    "    sum_x = 0\n",
    "    sum_y = 0\n",
    "    for i in range(len(x)):\n",
    "        sum_x += x[i]\n",
    "        sum_y += y[i]\n",
    "    av_x = sum_x/len(x)\n",
    "    av_y = sum_y/len(y)\n",
    "#     print(av_x, av_y)\n",
    "    sum_u = 0\n",
    "    sum_d1 = 0\n",
    "    sum_d2 = 0\n",
    "    for i in range(len(x)):\n",
    "        sum_u += (x[i]-av_x)*(y[i]-av_y)\n",
    "        sum_d1 += pow((x[i]-av_x),2)\n",
    "        sum_d2 += pow((y[i]-av_y),2)\n",
    "    \n",
    "#     print(sum_u,sum_d1,sum_d2)\n",
    "    result = sum_u/sqrt(sum_d1*sum_d2)\n",
    "    return result"
   ]
  },
  {
   "cell_type": "markdown",
   "metadata": {},
   "source": [
    "# 데이터 생성"
   ]
  },
  {
   "cell_type": "code",
   "execution_count": 34,
   "metadata": {},
   "outputs": [
    {
     "name": "stdout",
     "output_type": "stream",
     "text": [
      "0.989321898881\n",
      "6.88379059709e-16\n"
     ]
    },
    {
     "data": {
      "image/png": "[encoded data removed]",
      "text/plain": [
       "<matplotlib.figure.Figure at 0x2058e29ec18>"
      ]
     },
     "metadata": {},
     "output_type": "display_data"
    },
    {
     "data": {
      "image/png": "[encoded data removed]",
      "text/plain": [
       "<matplotlib.figure.Figure at 0x2058dae7748>"
      ]
     },
     "metadata": {},
     "output_type": "display_data"
    }
   ],
   "source": [
    "import numpy as np\n",
    "import matplotlib.pyplot as plt\n",
    "from scipy import stats\n",
    "#points 는 표시하고픈 점의 수\n",
    "points= 100\n",
    "\n",
    "x = np.linspace(-1,1,points)\n",
    "y = x+0.1*np.random.normal(size=points, scale=1)#scale은 선과 관련성 설정(높을수록 멀어짐)\n",
    "slope, intercept, r_value, p_value, std_err = stats.linregress(x,y)\n",
    "y_line = slope*x+intercept\n",
    "\n",
    "fig, (ax1) = plt.subplots(1, figsize=(4,4))\n",
    "ax1.scatter(x,y, color='#4D0132', lw=0, s=60)\n",
    "ax1.set_xlim([-1.5,1.5])\n",
    "ax1.set_ylim([-1.5,1.5])\n",
    "ax1.plot(x,y_line, color='red',lw=2)\n",
    "fig.savefig('linear.png')\n",
    "\n",
    "fig, (ax1) = plt.subplots(1,figsize=(4,4))\n",
    "ax1.scatter(x,y-y_line, color='#963725', lw=0, s=60)\n",
    "\n",
    "ax1.set_xlim([-1.5,1.5])\n",
    "ax1.set_ylim([-1.5,1.5])\n",
    "fig.savefig('linear-residuals.png')\n",
    "\n",
    "print(correlation(x,y))\n",
    "print(correlation(x,y-y_line))"
   ]
  }
 ],
 "metadata": {
  "kernelspec": {
   "display_name": "Python 3",
   "language": "python",
   "name": "python3"
  },
  "language_info": {
   "codemirror_mode": {
    "name": "ipython",
    "version": 3
   },
   "file_extension": ".py",
   "mimetype": "text/x-python",
   "name": "python",
   "nbconvert_exporter": "python",
   "pygments_lexer": "ipython3",
   "version": "3.5.4"
  }
 },
 "nbformat": 4,
 "nbformat_minor": 2
}
